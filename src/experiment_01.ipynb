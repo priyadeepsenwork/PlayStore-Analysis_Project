{
 "cells": [
  {
   "cell_type": "markdown",
   "id": "b2bb0ed0",
   "metadata": {},
   "source": [
    "# experiment_01.ipynb"
   ]
  },
  {
   "cell_type": "markdown",
   "id": "06df7610",
   "metadata": {},
   "source": [
    "### Import Libraries and Dataset"
   ]
  },
  {
   "cell_type": "code",
   "execution_count": 1,
   "id": "332eb3cf",
   "metadata": {},
   "outputs": [],
   "source": [
    "import pandas as pd\n",
    "import numpy as np\n",
    "import seaborn as sns\n",
    "import matplotlib.pyplot as plt"
   ]
  },
  {
   "cell_type": "code",
   "execution_count": 2,
   "id": "58716b3a",
   "metadata": {},
   "outputs": [
    {
     "name": "stdout",
     "output_type": "stream",
     "text": [
      "Dataset loaded in Dataframe successfully. Shape: (348, 33)\n"
     ]
    },
    {
     "data": {
      "text/html": [
       "<div>\n",
       "<style scoped>\n",
       "    .dataframe tbody tr th:only-of-type {\n",
       "        vertical-align: middle;\n",
       "    }\n",
       "\n",
       "    .dataframe tbody tr th {\n",
       "        vertical-align: top;\n",
       "    }\n",
       "\n",
       "    .dataframe thead th {\n",
       "        text-align: right;\n",
       "    }\n",
       "</style>\n",
       "<table border=\"1\" class=\"dataframe\">\n",
       "  <thead>\n",
       "    <tr style=\"text-align: right;\">\n",
       "      <th></th>\n",
       "      <th>appId</th>\n",
       "      <th>title</th>\n",
       "      <th>developer</th>\n",
       "      <th>developerId</th>\n",
       "      <th>released</th>\n",
       "      <th>score</th>\n",
       "      <th>ratings</th>\n",
       "      <th>installs</th>\n",
       "      <th>free</th>\n",
       "      <th>price</th>\n",
       "      <th>...</th>\n",
       "      <th>most_liked_review_score</th>\n",
       "      <th>most_liked_review_date</th>\n",
       "      <th>most_disliked_review</th>\n",
       "      <th>most_disliked_review_score</th>\n",
       "      <th>most_disliked_review_date</th>\n",
       "      <th>discovered_from_category</th>\n",
       "      <th>discovered_query</th>\n",
       "      <th>price_bucket</th>\n",
       "      <th>installs_clean</th>\n",
       "      <th>revenue_proxy</th>\n",
       "    </tr>\n",
       "  </thead>\n",
       "  <tbody>\n",
       "    <tr>\n",
       "      <th>0</th>\n",
       "      <td>com.king.candycrushsaga</td>\n",
       "      <td>Candy Crush Saga</td>\n",
       "      <td>King</td>\n",
       "      <td>6577204690045492686</td>\n",
       "      <td>2012-11-15</td>\n",
       "      <td>4.619947</td>\n",
       "      <td>38968364.0</td>\n",
       "      <td>1,000,000,000+</td>\n",
       "      <td>True</td>\n",
       "      <td>0.0</td>\n",
       "      <td>...</td>\n",
       "      <td>1.0</td>\n",
       "      <td>2025-07-22T02:19:25</td>\n",
       "      <td>fun game as always, but the amount of pop ups ...</td>\n",
       "      <td>2.0</td>\n",
       "      <td>2025-02-13T01:59:01</td>\n",
       "      <td>GAME</td>\n",
       "      <td>top free games</td>\n",
       "      <td>Free</td>\n",
       "      <td>1000000000</td>\n",
       "      <td>0.0</td>\n",
       "    </tr>\n",
       "    <tr>\n",
       "      <th>1</th>\n",
       "      <td>com.rovio.baba</td>\n",
       "      <td>Angry Birds 2</td>\n",
       "      <td>Rovio Entertainment Oy</td>\n",
       "      <td>9133452689932095671</td>\n",
       "      <td>2015-07-23</td>\n",
       "      <td>4.160238</td>\n",
       "      <td>6278648.0</td>\n",
       "      <td>100,000,000+</td>\n",
       "      <td>True</td>\n",
       "      <td>0.0</td>\n",
       "      <td>...</td>\n",
       "      <td>1.0</td>\n",
       "      <td>2025-03-14T13:48:59</td>\n",
       "      <td>Got back into this after playing the originals...</td>\n",
       "      <td>2.0</td>\n",
       "      <td>2025-06-30T05:27:42</td>\n",
       "      <td>GAME</td>\n",
       "      <td>top free games</td>\n",
       "      <td>Free</td>\n",
       "      <td>100000000</td>\n",
       "      <td>0.0</td>\n",
       "    </tr>\n",
       "  </tbody>\n",
       "</table>\n",
       "<p>2 rows × 33 columns</p>\n",
       "</div>"
      ],
      "text/plain": [
       "                     appId             title               developer  \\\n",
       "0  com.king.candycrushsaga  Candy Crush Saga                    King   \n",
       "1           com.rovio.baba     Angry Birds 2  Rovio Entertainment Oy   \n",
       "\n",
       "           developerId    released     score     ratings        installs  \\\n",
       "0  6577204690045492686  2012-11-15  4.619947  38968364.0  1,000,000,000+   \n",
       "1  9133452689932095671  2015-07-23  4.160238   6278648.0    100,000,000+   \n",
       "\n",
       "   free  price  ... most_liked_review_score  most_liked_review_date  \\\n",
       "0  True    0.0  ...                     1.0     2025-07-22T02:19:25   \n",
       "1  True    0.0  ...                     1.0     2025-03-14T13:48:59   \n",
       "\n",
       "                                most_disliked_review  \\\n",
       "0  fun game as always, but the amount of pop ups ...   \n",
       "1  Got back into this after playing the originals...   \n",
       "\n",
       "   most_disliked_review_score most_disliked_review_date  \\\n",
       "0                         2.0       2025-02-13T01:59:01   \n",
       "1                         2.0       2025-06-30T05:27:42   \n",
       "\n",
       "  discovered_from_category discovered_query price_bucket installs_clean  \\\n",
       "0                     GAME   top free games         Free     1000000000   \n",
       "1                     GAME   top free games         Free      100000000   \n",
       "\n",
       "  revenue_proxy  \n",
       "0           0.0  \n",
       "1           0.0  \n",
       "\n",
       "[2 rows x 33 columns]"
      ]
     },
     "execution_count": 2,
     "metadata": {},
     "output_type": "execute_result"
    }
   ],
   "source": [
    "df = pd.read_csv('../dataset/playstore_dataset_clean.csv')\n",
    "\n",
    "print(f\"Dataset loaded in Dataframe successfully. Shape: {df.shape}\")\n",
    "df.head(2)"
   ]
  },
  {
   "cell_type": "markdown",
   "id": "3cb96e3e",
   "metadata": {},
   "source": [
    "### Basic Dataframe stats"
   ]
  },
  {
   "cell_type": "code",
   "execution_count": 3,
   "id": "f26ec4cb",
   "metadata": {},
   "outputs": [
    {
     "name": "stdout",
     "output_type": "stream",
     "text": [
      "<class 'pandas.core.frame.DataFrame'>\n",
      "RangeIndex: 348 entries, 0 to 347\n",
      "Data columns (total 33 columns):\n",
      " #   Column                      Non-Null Count  Dtype  \n",
      "---  ------                      --------------  -----  \n",
      " 0   appId                       348 non-null    object \n",
      " 1   title                       348 non-null    object \n",
      " 2   developer                   348 non-null    object \n",
      " 3   developerId                 348 non-null    object \n",
      " 4   released                    337 non-null    object \n",
      " 5   score                       345 non-null    float64\n",
      " 6   ratings                     345 non-null    float64\n",
      " 7   installs                    348 non-null    object \n",
      " 8   free                        348 non-null    bool   \n",
      " 9   price                       348 non-null    float64\n",
      " 10  currency                    348 non-null    object \n",
      " 11  offersInAppPurchases        348 non-null    bool   \n",
      " 12  inAppProductPrice           348 non-null    object \n",
      " 13  containsAds                 348 non-null    bool   \n",
      " 14  updated                     348 non-null    object \n",
      " 15  version                     348 non-null    object \n",
      " 16  genre                       348 non-null    object \n",
      " 17  genreId                     348 non-null    object \n",
      " 18  contentRating               348 non-null    object \n",
      " 19  contentRatingDescription    348 non-null    object \n",
      " 20  summary                     348 non-null    object \n",
      " 21  url                         348 non-null    object \n",
      " 22  most_liked_review           347 non-null    object \n",
      " 23  most_liked_review_score     347 non-null    float64\n",
      " 24  most_liked_review_date      347 non-null    object \n",
      " 25  most_disliked_review        320 non-null    object \n",
      " 26  most_disliked_review_score  302 non-null    float64\n",
      " 27  most_disliked_review_date   302 non-null    object \n",
      " 28  discovered_from_category    348 non-null    object \n",
      " 29  discovered_query            348 non-null    object \n",
      " 30  price_bucket                348 non-null    object \n",
      " 31  installs_clean              348 non-null    int64  \n",
      " 32  revenue_proxy               348 non-null    float64\n",
      "dtypes: bool(3), float64(6), int64(1), object(23)\n",
      "memory usage: 82.7+ KB\n"
     ]
    }
   ],
   "source": [
    "df.info()"
   ]
  },
  {
   "cell_type": "code",
   "execution_count": 4,
   "id": "94ceaa12",
   "metadata": {},
   "outputs": [
    {
     "data": {
      "text/plain": [
       "appId                          0\n",
       "title                          0\n",
       "developer                      0\n",
       "developerId                    0\n",
       "released                      11\n",
       "score                          3\n",
       "ratings                        3\n",
       "installs                       0\n",
       "free                           0\n",
       "price                          0\n",
       "currency                       0\n",
       "offersInAppPurchases           0\n",
       "inAppProductPrice              0\n",
       "containsAds                    0\n",
       "updated                        0\n",
       "version                        0\n",
       "genre                          0\n",
       "genreId                        0\n",
       "contentRating                  0\n",
       "contentRatingDescription       0\n",
       "summary                        0\n",
       "url                            0\n",
       "most_liked_review              1\n",
       "most_liked_review_score        1\n",
       "most_liked_review_date         1\n",
       "most_disliked_review          28\n",
       "most_disliked_review_score    46\n",
       "most_disliked_review_date     46\n",
       "discovered_from_category       0\n",
       "discovered_query               0\n",
       "price_bucket                   0\n",
       "installs_clean                 0\n",
       "revenue_proxy                  0\n",
       "dtype: int64"
      ]
     },
     "execution_count": 4,
     "metadata": {},
     "output_type": "execute_result"
    }
   ],
   "source": [
    "df.isnull().sum()"
   ]
  },
  {
   "cell_type": "code",
   "execution_count": 5,
   "id": "be1c5056",
   "metadata": {},
   "outputs": [
    {
     "data": {
      "text/plain": [
       "(348, 33)"
      ]
     },
     "execution_count": 5,
     "metadata": {},
     "output_type": "execute_result"
    }
   ],
   "source": [
    "df.shape"
   ]
  },
  {
   "cell_type": "code",
   "execution_count": null,
   "id": "faa41f96",
   "metadata": {},
   "outputs": [],
   "source": []
  },
  {
   "cell_type": "code",
   "execution_count": null,
   "id": "b9b1065e",
   "metadata": {},
   "outputs": [],
   "source": []
  },
  {
   "cell_type": "code",
   "execution_count": null,
   "id": "4e60d2e9",
   "metadata": {},
   "outputs": [],
   "source": []
  }
 ],
 "metadata": {
  "kernelspec": {
   "display_name": ".venv",
   "language": "python",
   "name": "python3"
  },
  "language_info": {
   "codemirror_mode": {
    "name": "ipython",
    "version": 3
   },
   "file_extension": ".py",
   "mimetype": "text/x-python",
   "name": "python",
   "nbconvert_exporter": "python",
   "pygments_lexer": "ipython3",
   "version": "3.12.3"
  }
 },
 "nbformat": 4,
 "nbformat_minor": 5
}
