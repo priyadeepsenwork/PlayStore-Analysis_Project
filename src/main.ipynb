{
 "cells": [
  {
   "cell_type": "markdown",
   "id": "8934c27c",
   "metadata": {},
   "source": [
    "# main.py"
   ]
  },
  {
   "cell_type": "markdown",
   "id": "0c6ee8cd",
   "metadata": {},
   "source": [
    "### Import libraries"
   ]
  },
  {
   "cell_type": "code",
   "execution_count": 69,
   "id": "b1bdc879",
   "metadata": {},
   "outputs": [],
   "source": [
    "import pandas as pd\n",
    "import numpy as np\n",
    "import seaborn as sns\n",
    "import matplotlib.pyplot as plt\n",
    "import datetime as dt"
   ]
  },
  {
   "cell_type": "markdown",
   "id": "43cc4b25",
   "metadata": {},
   "source": [
    "### Import Dataset into Dataframe"
   ]
  },
  {
   "cell_type": "code",
   "execution_count": 70,
   "id": "9be1fe91",
   "metadata": {},
   "outputs": [
    {
     "name": "stdout",
     "output_type": "stream",
     "text": [
      "Dataset loaded in Dataframe successfully. Shape: (357, 30)\n"
     ]
    },
    {
     "data": {
      "text/html": [
       "<div>\n",
       "<style scoped>\n",
       "    .dataframe tbody tr th:only-of-type {\n",
       "        vertical-align: middle;\n",
       "    }\n",
       "\n",
       "    .dataframe tbody tr th {\n",
       "        vertical-align: top;\n",
       "    }\n",
       "\n",
       "    .dataframe thead th {\n",
       "        text-align: right;\n",
       "    }\n",
       "</style>\n",
       "<table border=\"1\" class=\"dataframe\">\n",
       "  <thead>\n",
       "    <tr style=\"text-align: right;\">\n",
       "      <th></th>\n",
       "      <th>appId</th>\n",
       "      <th>title</th>\n",
       "      <th>developer</th>\n",
       "      <th>developerId</th>\n",
       "      <th>released</th>\n",
       "      <th>score</th>\n",
       "      <th>ratings</th>\n",
       "      <th>installs</th>\n",
       "      <th>free</th>\n",
       "      <th>price</th>\n",
       "      <th>...</th>\n",
       "      <th>summary</th>\n",
       "      <th>url</th>\n",
       "      <th>most_liked_review</th>\n",
       "      <th>most_liked_review_score</th>\n",
       "      <th>most_liked_review_date</th>\n",
       "      <th>most_disliked_review</th>\n",
       "      <th>most_disliked_review_score</th>\n",
       "      <th>most_disliked_review_date</th>\n",
       "      <th>discovered_from_category</th>\n",
       "      <th>discovered_query</th>\n",
       "    </tr>\n",
       "  </thead>\n",
       "  <tbody>\n",
       "    <tr>\n",
       "      <th>0</th>\n",
       "      <td>com.king.candycrushsaga</td>\n",
       "      <td>Candy Crush Saga</td>\n",
       "      <td>King</td>\n",
       "      <td>6577204690045492686</td>\n",
       "      <td>Nov 15, 2012</td>\n",
       "      <td>4.619947</td>\n",
       "      <td>38968364.0</td>\n",
       "      <td>1,000,000,000+</td>\n",
       "      <td>True</td>\n",
       "      <td>0.0</td>\n",
       "      <td>...</td>\n",
       "      <td>Match your way through candy puzzles packed wi...</td>\n",
       "      <td>https://play.google.com/store/apps/details?id=...</td>\n",
       "      <td>I loved this game. Played for years (over 9000...</td>\n",
       "      <td>1.0</td>\n",
       "      <td>2025-07-22T02:19:25</td>\n",
       "      <td>fun game as always, but the amount of pop ups ...</td>\n",
       "      <td>2.0</td>\n",
       "      <td>2025-02-13T01:59:01</td>\n",
       "      <td>GAME</td>\n",
       "      <td>top free games</td>\n",
       "    </tr>\n",
       "    <tr>\n",
       "      <th>1</th>\n",
       "      <td>com.rovio.baba</td>\n",
       "      <td>Angry Birds 2</td>\n",
       "      <td>Rovio Entertainment Oy</td>\n",
       "      <td>9133452689932095671</td>\n",
       "      <td>Jul 23, 2015</td>\n",
       "      <td>4.160238</td>\n",
       "      <td>6278648.0</td>\n",
       "      <td>100,000,000+</td>\n",
       "      <td>True</td>\n",
       "      <td>0.0</td>\n",
       "      <td>...</td>\n",
       "      <td>Play the Angry Birds game enjoyed by millions ...</td>\n",
       "      <td>https://play.google.com/store/apps/details?id=...</td>\n",
       "      <td>The game is rough. Some levels are made to be ...</td>\n",
       "      <td>1.0</td>\n",
       "      <td>2025-03-14T13:48:59</td>\n",
       "      <td>Got back into this after playing the originals...</td>\n",
       "      <td>2.0</td>\n",
       "      <td>2025-06-30T05:27:42</td>\n",
       "      <td>GAME</td>\n",
       "      <td>top free games</td>\n",
       "    </tr>\n",
       "  </tbody>\n",
       "</table>\n",
       "<p>2 rows × 30 columns</p>\n",
       "</div>"
      ],
      "text/plain": [
       "                     appId             title               developer  \\\n",
       "0  com.king.candycrushsaga  Candy Crush Saga                    King   \n",
       "1           com.rovio.baba     Angry Birds 2  Rovio Entertainment Oy   \n",
       "\n",
       "           developerId      released     score     ratings        installs  \\\n",
       "0  6577204690045492686  Nov 15, 2012  4.619947  38968364.0  1,000,000,000+   \n",
       "1  9133452689932095671  Jul 23, 2015  4.160238   6278648.0    100,000,000+   \n",
       "\n",
       "   free  price  ...                                            summary  \\\n",
       "0  True    0.0  ...  Match your way through candy puzzles packed wi...   \n",
       "1  True    0.0  ...  Play the Angry Birds game enjoyed by millions ...   \n",
       "\n",
       "                                                 url  \\\n",
       "0  https://play.google.com/store/apps/details?id=...   \n",
       "1  https://play.google.com/store/apps/details?id=...   \n",
       "\n",
       "                                   most_liked_review  most_liked_review_score  \\\n",
       "0  I loved this game. Played for years (over 9000...                      1.0   \n",
       "1  The game is rough. Some levels are made to be ...                      1.0   \n",
       "\n",
       "   most_liked_review_date                               most_disliked_review  \\\n",
       "0     2025-07-22T02:19:25  fun game as always, but the amount of pop ups ...   \n",
       "1     2025-03-14T13:48:59  Got back into this after playing the originals...   \n",
       "\n",
       "  most_disliked_review_score most_disliked_review_date  \\\n",
       "0                        2.0       2025-02-13T01:59:01   \n",
       "1                        2.0       2025-06-30T05:27:42   \n",
       "\n",
       "  discovered_from_category discovered_query  \n",
       "0                     GAME   top free games  \n",
       "1                     GAME   top free games  \n",
       "\n",
       "[2 rows x 30 columns]"
      ]
     },
     "execution_count": 70,
     "metadata": {},
     "output_type": "execute_result"
    }
   ],
   "source": [
    "df = pd.read_csv('../dataset/playstore_dataset.csv')\n",
    "\n",
    "print(f\"Dataset loaded in Dataframe successfully. Shape: {df.shape}\")\n",
    "df.head(2)"
   ]
  },
  {
   "cell_type": "markdown",
   "id": "d98560e6",
   "metadata": {},
   "source": [
    "## Dataframe info"
   ]
  },
  {
   "cell_type": "code",
   "execution_count": 71,
   "id": "3a749e0e",
   "metadata": {},
   "outputs": [
    {
     "data": {
      "text/html": [
       "<div>\n",
       "<style scoped>\n",
       "    .dataframe tbody tr th:only-of-type {\n",
       "        vertical-align: middle;\n",
       "    }\n",
       "\n",
       "    .dataframe tbody tr th {\n",
       "        vertical-align: top;\n",
       "    }\n",
       "\n",
       "    .dataframe thead th {\n",
       "        text-align: right;\n",
       "    }\n",
       "</style>\n",
       "<table border=\"1\" class=\"dataframe\">\n",
       "  <thead>\n",
       "    <tr style=\"text-align: right;\">\n",
       "      <th></th>\n",
       "      <th>score</th>\n",
       "      <th>ratings</th>\n",
       "      <th>price</th>\n",
       "      <th>updated</th>\n",
       "      <th>most_liked_review_score</th>\n",
       "      <th>most_disliked_review_score</th>\n",
       "    </tr>\n",
       "  </thead>\n",
       "  <tbody>\n",
       "    <tr>\n",
       "      <th>count</th>\n",
       "      <td>354.000000</td>\n",
       "      <td>3.540000e+02</td>\n",
       "      <td>357.000000</td>\n",
       "      <td>3.570000e+02</td>\n",
       "      <td>356.000000</td>\n",
       "      <td>311.000000</td>\n",
       "    </tr>\n",
       "    <tr>\n",
       "      <th>mean</th>\n",
       "      <td>4.375370</td>\n",
       "      <td>7.644587e+06</td>\n",
       "      <td>0.011176</td>\n",
       "      <td>1.754747e+09</td>\n",
       "      <td>2.997191</td>\n",
       "      <td>1.347267</td>\n",
       "    </tr>\n",
       "    <tr>\n",
       "      <th>std</th>\n",
       "      <td>0.404734</td>\n",
       "      <td>2.293487e+07</td>\n",
       "      <td>0.211173</td>\n",
       "      <td>1.337960e+07</td>\n",
       "      <td>1.710775</td>\n",
       "      <td>0.476869</td>\n",
       "    </tr>\n",
       "    <tr>\n",
       "      <th>min</th>\n",
       "      <td>2.602410</td>\n",
       "      <td>6.600000e+01</td>\n",
       "      <td>0.000000</td>\n",
       "      <td>1.531381e+09</td>\n",
       "      <td>1.000000</td>\n",
       "      <td>1.000000</td>\n",
       "    </tr>\n",
       "    <tr>\n",
       "      <th>25%</th>\n",
       "      <td>4.190061</td>\n",
       "      <td>1.971440e+05</td>\n",
       "      <td>0.000000</td>\n",
       "      <td>1.755898e+09</td>\n",
       "      <td>1.000000</td>\n",
       "      <td>1.000000</td>\n",
       "    </tr>\n",
       "    <tr>\n",
       "      <th>50%</th>\n",
       "      <td>4.494429</td>\n",
       "      <td>1.310036e+06</td>\n",
       "      <td>0.000000</td>\n",
       "      <td>1.756717e+09</td>\n",
       "      <td>3.000000</td>\n",
       "      <td>1.000000</td>\n",
       "    </tr>\n",
       "    <tr>\n",
       "      <th>75%</th>\n",
       "      <td>4.646368</td>\n",
       "      <td>5.099808e+06</td>\n",
       "      <td>0.000000</td>\n",
       "      <td>1.756927e+09</td>\n",
       "      <td>5.000000</td>\n",
       "      <td>2.000000</td>\n",
       "    </tr>\n",
       "    <tr>\n",
       "      <th>max</th>\n",
       "      <td>5.000000</td>\n",
       "      <td>2.110498e+08</td>\n",
       "      <td>3.990000</td>\n",
       "      <td>1.757117e+09</td>\n",
       "      <td>5.000000</td>\n",
       "      <td>2.000000</td>\n",
       "    </tr>\n",
       "  </tbody>\n",
       "</table>\n",
       "</div>"
      ],
      "text/plain": [
       "            score       ratings       price       updated  \\\n",
       "count  354.000000  3.540000e+02  357.000000  3.570000e+02   \n",
       "mean     4.375370  7.644587e+06    0.011176  1.754747e+09   \n",
       "std      0.404734  2.293487e+07    0.211173  1.337960e+07   \n",
       "min      2.602410  6.600000e+01    0.000000  1.531381e+09   \n",
       "25%      4.190061  1.971440e+05    0.000000  1.755898e+09   \n",
       "50%      4.494429  1.310036e+06    0.000000  1.756717e+09   \n",
       "75%      4.646368  5.099808e+06    0.000000  1.756927e+09   \n",
       "max      5.000000  2.110498e+08    3.990000  1.757117e+09   \n",
       "\n",
       "       most_liked_review_score  most_disliked_review_score  \n",
       "count               356.000000                  311.000000  \n",
       "mean                  2.997191                    1.347267  \n",
       "std                   1.710775                    0.476869  \n",
       "min                   1.000000                    1.000000  \n",
       "25%                   1.000000                    1.000000  \n",
       "50%                   3.000000                    1.000000  \n",
       "75%                   5.000000                    2.000000  \n",
       "max                   5.000000                    2.000000  "
      ]
     },
     "execution_count": 71,
     "metadata": {},
     "output_type": "execute_result"
    }
   ],
   "source": [
    "df.describe()"
   ]
  },
  {
   "cell_type": "code",
   "execution_count": 72,
   "id": "c4b2b30c",
   "metadata": {},
   "outputs": [
    {
     "name": "stdout",
     "output_type": "stream",
     "text": [
      "<class 'pandas.core.frame.DataFrame'>\n",
      "RangeIndex: 357 entries, 0 to 356\n",
      "Data columns (total 30 columns):\n",
      " #   Column                      Non-Null Count  Dtype  \n",
      "---  ------                      --------------  -----  \n",
      " 0   appId                       357 non-null    object \n",
      " 1   title                       357 non-null    object \n",
      " 2   developer                   357 non-null    object \n",
      " 3   developerId                 357 non-null    object \n",
      " 4   released                    346 non-null    object \n",
      " 5   score                       354 non-null    float64\n",
      " 6   ratings                     354 non-null    float64\n",
      " 7   installs                    357 non-null    object \n",
      " 8   free                        357 non-null    bool   \n",
      " 9   price                       357 non-null    float64\n",
      " 10  currency                    357 non-null    object \n",
      " 11  offersInAppPurchases        357 non-null    bool   \n",
      " 12  inAppProductPrice           218 non-null    object \n",
      " 13  containsAds                 357 non-null    bool   \n",
      " 14  updated                     357 non-null    int64  \n",
      " 15  version                     357 non-null    object \n",
      " 16  genre                       357 non-null    object \n",
      " 17  genreId                     357 non-null    object \n",
      " 18  contentRating               357 non-null    object \n",
      " 19  contentRatingDescription    65 non-null     object \n",
      " 20  summary                     357 non-null    object \n",
      " 21  url                         357 non-null    object \n",
      " 22  most_liked_review           356 non-null    object \n",
      " 23  most_liked_review_score     356 non-null    float64\n",
      " 24  most_liked_review_date      356 non-null    object \n",
      " 25  most_disliked_review        329 non-null    object \n",
      " 26  most_disliked_review_score  311 non-null    float64\n",
      " 27  most_disliked_review_date   311 non-null    object \n",
      " 28  discovered_from_category    357 non-null    object \n",
      " 29  discovered_query            357 non-null    object \n",
      "dtypes: bool(3), float64(5), int64(1), object(21)\n",
      "memory usage: 76.5+ KB\n"
     ]
    }
   ],
   "source": [
    "df.info()"
   ]
  },
  {
   "cell_type": "markdown",
   "id": "ff85953b",
   "metadata": {},
   "source": [
    "## Basic checks of Dataframe"
   ]
  },
  {
   "cell_type": "code",
   "execution_count": 73,
   "id": "5c3627b8",
   "metadata": {},
   "outputs": [
    {
     "data": {
      "text/plain": [
       "appId                           0\n",
       "inAppProductPrice             139\n",
       "contentRatingDescription      292\n",
       "most_disliked_review           28\n",
       "most_disliked_review_score     46\n",
       "most_disliked_review_date      46\n",
       "dtype: int64"
      ]
     },
     "execution_count": 73,
     "metadata": {},
     "output_type": "execute_result"
    }
   ],
   "source": [
    "df.isnull().sum()[[\n",
    "        'appId', 'inAppProductPrice', 'contentRatingDescription', 'most_disliked_review', 'most_disliked_review_score',\n",
    "        'most_disliked_review_date'\n",
    "]]"
   ]
  },
  {
   "cell_type": "code",
   "execution_count": 74,
   "id": "31347eb5",
   "metadata": {},
   "outputs": [
    {
     "name": "stdout",
     "output_type": "stream",
     "text": [
      "['Everyone' 'Everyone 10+' 'Mature 17+' 'Teen']\n",
      "['Casual' 'Arcade' 'Action' 'Strategy' 'Sports' 'Puzzle' 'Adventure'\n",
      " 'Racing' 'Word' 'Finance' 'Health & Fitness' 'Shopping' 'Tools'\n",
      " 'Productivity' 'Personalization' 'Education' 'Educational' 'Social'\n",
      " 'News & Magazines' 'Communication' 'Business' 'Lifestyle' 'Entertainment'\n",
      " 'Travel & Local' 'Maps & Navigation' 'Video Players & Editors'\n",
      " 'Music & Audio']\n"
     ]
    }
   ],
   "source": [
    "print(df['contentRating'].unique())\n",
    "print(df['genre'].unique())"
   ]
  },
  {
   "cell_type": "markdown",
   "id": "d23886d9",
   "metadata": {},
   "source": [
    "### Duplicates Handling"
   ]
  },
  {
   "cell_type": "code",
   "execution_count": 75,
   "id": "a955bef0",
   "metadata": {},
   "outputs": [],
   "source": [
    "#       Drop duplicates if any:\n",
    "df.drop_duplicates(subset=\"appId\", inplace=True)"
   ]
  },
  {
   "cell_type": "code",
   "execution_count": 76,
   "id": "932a67f7",
   "metadata": {},
   "outputs": [
    {
     "name": "stderr",
     "output_type": "stream",
     "text": [
      "/tmp/ipykernel_15283/2201328610.py:5: FutureWarning: A value is trying to be set on a copy of a DataFrame or Series through chained assignment using an inplace method.\n",
      "The behavior will change in pandas 3.0. This inplace method will never work because the intermediate object on which we are setting values always behaves as a copy.\n",
      "\n",
      "For example, when doing 'df[col].method(value, inplace=True)', try using 'df.method({col: value}, inplace=True)' or df[col] = df[col].method(value) instead, to perform the operation inplace on the original object.\n",
      "\n",
      "\n",
      "  df['inAppProductPrice'].fillna(\"No In App Product Price info\", inplace=True)\n",
      "/tmp/ipykernel_15283/2201328610.py:6: FutureWarning: A value is trying to be set on a copy of a DataFrame or Series through chained assignment using an inplace method.\n",
      "The behavior will change in pandas 3.0. This inplace method will never work because the intermediate object on which we are setting values always behaves as a copy.\n",
      "\n",
      "For example, when doing 'df[col].method(value, inplace=True)', try using 'df.method({col: value}, inplace=True)' or df[col] = df[col].method(value) instead, to perform the operation inplace on the original object.\n",
      "\n",
      "\n",
      "  df['contentRatingDescription'].fillna(\"Not provided\", inplace=True)\n"
     ]
    }
   ],
   "source": [
    "#       Handle Missing Values\n",
    "#       For reviews: Keep them as NaN for now.\n",
    "#       For monetization field:\n",
    "\n",
    "df['inAppProductPrice'].fillna(\"No In App Product Price info\", inplace=True)\n",
    "df['contentRatingDescription'].fillna(\"Not provided\", inplace=True)"
   ]
  },
  {
   "cell_type": "code",
   "execution_count": 77,
   "id": "06e70cf0",
   "metadata": {},
   "outputs": [],
   "source": [
    "#       Convert 'updated' from Unix Timestamp -> datetime\n",
    "df[\"updated\"] = pd.to_datetime(df[\"updated\"], unit=\"s\", errors=\"coerce\")\n",
    "\n",
    "#       Convert 'released' if available\n",
    "df[\"released\"] = pd.to_datetime(df[\"released\"], errors=\"coerce\")"
   ]
  },
  {
   "cell_type": "markdown",
   "id": "c9519a94",
   "metadata": {},
   "source": [
    "## MONETIZATION features"
   ]
  },
  {
   "cell_type": "code",
   "execution_count": 78,
   "id": "e8ee44b4",
   "metadata": {},
   "outputs": [],
   "source": [
    "#       PRICE BUCKETS\n",
    "df['price_bucket'] = pd.cut(\n",
    "        df['price'],\n",
    "        bins=[-0.01, 0.01, 1, 5, 10, 50, 100, np.inf],\n",
    "        labels=[\"Free\", \"≤$1\", \"$1-5\", \"$5-10\", \"$10-50\", \"$50-100\", \"$100+\"]\n",
    ")"
   ]
  },
  {
   "cell_type": "code",
   "execution_count": 79,
   "id": "f791725d",
   "metadata": {},
   "outputs": [],
   "source": [
    "#       CLEAN INSTALLS COLUMN (remove + and ,)\n",
    "def parse_installs(x):\n",
    "        try:\n",
    "                return int(x.replace(\"+\", \"\").replace(\",\", \"\").strip())\n",
    "        except:\n",
    "                return np.nan\n",
    "\n",
    "df[\"installs_clean\"] =df[\"installs\"].apply(parse_installs)"
   ]
  },
  {
   "cell_type": "code",
   "execution_count": 80,
   "id": "e7efaf9f",
   "metadata": {},
   "outputs": [],
   "source": [
    "#       Midpoint Revenue Proxy (for paid apps only)\n",
    "#       Not real review but useful for comparisons\n",
    "def revenue_proxy(row):\n",
    "    if row[\"free\"] or row[\"installs_clean\"] is np.nan:\n",
    "        return 0\n",
    "    return row[\"price\"] * row[\"installs_clean\"]\n",
    "    \n",
    "df[\"revenue_proxy\"] = df.apply(revenue_proxy, axis=1)"
   ]
  },
  {
   "cell_type": "markdown",
   "id": "dd196741",
   "metadata": {},
   "source": [
    "## Quick Monetization Stats"
   ]
  },
  {
   "cell_type": "code",
   "execution_count": 81,
   "id": "60d7f6ea",
   "metadata": {},
   "outputs": [
    {
     "name": "stdout",
     "output_type": "stream",
     "text": [
      "\n",
      "====== Basic Monetization Stats ======\n",
      "free                    347\n",
      "offersInAppPurchases    209\n",
      "containsAds             149\n",
      "dtype: int64\n",
      "\n",
      "====== Price Buckets ======\n",
      "price_bucket\n",
      "Free       347\n",
      "$1-5         1\n",
      "≤$1          0\n",
      "$5-10        0\n",
      "$10-50       0\n",
      "$50-100      0\n",
      "$100+        0\n",
      "Name: count, dtype: int64\n",
      "\n",
      "====== Revenue Proxy ======\n",
      "                              title  price  installs_clean  revenue_proxy\n",
      "72   Dev Tools Pro(Developer Tools)   3.99           10000        39900.0\n",
      "246  Hopper: Hotels, Flights & Cars   0.00        10000000            0.0\n",
      "245  Trip.com: Book Flights, Hotels   0.00        50000000            0.0\n",
      "244  Expedia: Hotels, Flights, Cars   0.00        50000000            0.0\n",
      "243  Tripadvisor: Plan & Book Trips   0.00       100000000            0.0\n"
     ]
    }
   ],
   "source": [
    "print(\"\\n====== Basic Monetization Stats ======\")\n",
    "print(df[[\"free\", \"offersInAppPurchases\", \"containsAds\"]].sum())\n",
    "\n",
    "print(\"\\n====== Price Buckets ======\")\n",
    "print(df[\"price_bucket\"].value_counts())\n",
    "\n",
    "print(\"\\n====== Revenue Proxy ======\")\n",
    "print(df.sort_values(\"revenue_proxy\", ascending=False)[\n",
    "    [\"title\", \"price\", \"installs_clean\", \"revenue_proxy\"]\n",
    "].head())"
   ]
  },
  {
   "cell_type": "markdown",
   "id": "4d15c328",
   "metadata": {},
   "source": [
    "## Save Clean Dataset"
   ]
  },
  {
   "cell_type": "code",
   "execution_count": 82,
   "id": "0f056367",
   "metadata": {},
   "outputs": [
    {
     "name": "stdout",
     "output_type": "stream",
     "text": [
      "\n",
      "Cleaned dataset saved as playstore_dataset_clean.csv\n"
     ]
    }
   ],
   "source": [
    "df.to_csv(\"../dataset/playstore_dataset_clean.csv\", index=False)\n",
    "print(\"\\nCleaned dataset saved as playstore_dataset_clean.csv\")"
   ]
  },
  {
   "cell_type": "code",
   "execution_count": null,
   "id": "5a8f139e",
   "metadata": {},
   "outputs": [],
   "source": []
  },
  {
   "cell_type": "code",
   "execution_count": null,
   "id": "efc2fe11",
   "metadata": {},
   "outputs": [],
   "source": []
  },
  {
   "cell_type": "code",
   "execution_count": null,
   "id": "c28880d8",
   "metadata": {},
   "outputs": [],
   "source": []
  },
  {
   "cell_type": "code",
   "execution_count": null,
   "id": "2c647e1c",
   "metadata": {},
   "outputs": [],
   "source": []
  },
  {
   "cell_type": "code",
   "execution_count": null,
   "id": "c515626d",
   "metadata": {},
   "outputs": [],
   "source": []
  },
  {
   "cell_type": "code",
   "execution_count": null,
   "id": "7f9ec5df",
   "metadata": {},
   "outputs": [],
   "source": []
  },
  {
   "cell_type": "code",
   "execution_count": null,
   "id": "c4b20bf0",
   "metadata": {},
   "outputs": [],
   "source": []
  }
 ],
 "metadata": {
  "kernelspec": {
   "display_name": ".venv",
   "language": "python",
   "name": "python3"
  },
  "language_info": {
   "codemirror_mode": {
    "name": "ipython",
    "version": 3
   },
   "file_extension": ".py",
   "mimetype": "text/x-python",
   "name": "python",
   "nbconvert_exporter": "python",
   "pygments_lexer": "ipython3",
   "version": "3.12.3"
  }
 },
 "nbformat": 4,
 "nbformat_minor": 5
}
