{
 "cells": [
  {
   "cell_type": "markdown",
   "id": "f9766a02",
   "metadata": {},
   "source": [
    "# playstore_scraper.ipynb"
   ]
  },
  {
   "cell_type": "markdown",
   "id": "075d9b3d",
   "metadata": {},
   "source": [
    "### IMPORTS"
   ]
  },
  {
   "cell_type": "code",
   "execution_count": 1,
   "id": "7ebfbf26",
   "metadata": {},
   "outputs": [],
   "source": [
    "from google_play_scraper import app, reviews, Sort, search\n",
    "import pandas as pd\n",
    "from tqdm import tqdm\n",
    "import time"
   ]
  },
  {
   "cell_type": "markdown",
   "id": "f1d8e08e",
   "metadata": {},
   "source": [
    "### CONFIGURATIONS"
   ]
  },
  {
   "cell_type": "code",
   "execution_count": 2,
   "id": "e47bc811",
   "metadata": {},
   "outputs": [],
   "source": [
    "CATEGORY_QUERIES = {\n",
    "    \"GAME\": \"top free games\",\n",
    "    \"FINANCE\": \"finance apps\",\n",
    "    \"TOOLS\": \"android tools\",\n",
    "    \"EDUCATION\": \"education learning apps\",\n",
    "    \"PRODUCTIVITY\": \"productivity apps\",\n",
    "    \"SOCIAL\": \"social networking apps\",\n",
    "    \"HEALTH_AND_FITNESS\": \"health and fitness apps\",\n",
    "    \"COMMUNICATION\": \"communication apps\",\n",
    "    \"TRAVEL\": \"travel apps\",\n",
    "    \"ENTERTAINMENT\": \"entertainment apps\",\n",
    "    \"MUSIC_AND_AUDIO\": \"music and audio apps\",\n",
    "    \"SHOPPING\": \"shopping apps\",\n",
    "}\n",
    "\n",
    "APPS_PER_CATEGORY = 250  # testing limit\n",
    "OUTPUT_FILE = \"playstore_dataset_small.csv\""
   ]
  },
  {
   "cell_type": "markdown",
   "id": "bc102d77",
   "metadata": {},
   "source": [
    "### HELPER FUNCTIONS"
   ]
  },
  {
   "cell_type": "code",
   "execution_count": null,
   "id": "0f71c44f",
   "metadata": {},
   "outputs": [],
   "source": [
    "# fetch_app_metadata function to fetch app metadatas while scraping\n",
    "\n",
    "def fetch_app_metadata(app_id, lang, country):\n",
    "    details = app(app_id, lang, country)\n",
    "    if not details:\n",
    "        return None\n",
    "\n",
    "    # Add your new fields here\n",
    "    metadata = {\n",
    "        \"appId\": app_id,\n",
    "        \"title\": details.get(\"title\"),\n",
    "        \"developer\": details.get(\"developer\"),\n",
    "        \"developerId\": details.get(\"developerId\"),\n",
    "        \"released\": details.get(\"released\"),\n",
    "        \"score\": details.get(\"score\"),\n",
    "        \"ratings\": details.get(\"ratings\"),\n",
    "        \"installs\": details.get(\"installs\"),\n",
    "        \"free\": details.get(\"free\"),\n",
    "        \"price\": details.get(\"price\"),\n",
    "        \"currency\": details.get(\"currency\"),\n",
    "        \"offersInAppPurchases\": details.get(\"offersIAP\", False),\n",
    "        \"inAppProductPrice\": details.get(\"inAppProductPrice\", None),\n",
    "        \"containsAds\": details.get(\"containsAds\"),\n",
    "        \"updated\": details.get(\"updated\"),\n",
    "        \"version\": details.get(\"version\"),\n",
    "        \"genre\": details.get(\"genre\"),\n",
    "        \"genreId\": details.get(\"genreId\"),\n",
    "        \"contentRating\": details.get(\"contentRating\"),\n",
    "        \"contentRatingDescription\": details.get(\"contentRatingDescription\"),\n",
    "        \"summary\": details.get(\"summary\"),\n",
    "        \"url\": details.get(\"url\")\n",
    "    }\n",
    "    \n",
    "    # Reviews: now with score and date\n",
    "    liked, disliked = fetch_reviews(app_id, count=5)\n",
    "    if liked and isinstance(liked, dict):\n",
    "        metadata[\"most_liked_review\"] = liked.get(\"content\")\n",
    "        metadata[\"most_liked_review_score\"] = liked.get(\"score\")\n",
    "        metadata[\"most_liked_review_date\"] = liked.get(\"at\", \"\").isoformat() if liked.get(\"at\") else None\n",
    "    else:\n",
    "        metadata[\"most_liked_review\"] = None\n",
    "        metadata[\"most_liked_review_score\"] = None\n",
    "        metadata[\"most_liked_review_date\"] = None\n",
    "\n",
    "    if disliked and isinstance(disliked, dict):\n",
    "        metadata[\"most_disliked_review\"] = disliked.get(\"content\")\n",
    "        metadata[\"most_disliked_review_score\"] = disliked.get(\"score\")\n",
    "        metadata[\"most_disliked_review_date\"] = disliked.get(\"at\", \"\").isoformat() if disliked.get(\"at\") else None\n",
    "    else:\n",
    "        metadata[\"most_disliked_review\"] = None\n",
    "        metadata[\"most_disliked_review_score\"] = None\n",
    "        metadata[\"most_disliked_review_date\"] = None\n",
    "\n",
    "    return metadata\n",
    "\n",
    "\n",
    "# fetch_reviews to fetch the reviews for each apps\n",
    "\n",
    "def fetch_reviews(app_id, count=250, lang=\"en\", country=\"us\"):\n",
    "    try:\n",
    "        rvws, _ = reviews(\n",
    "            app_id,\n",
    "            lang=lang,\n",
    "            country=country,\n",
    "            sort=Sort.MOST_RELEVANT, \n",
    "            count=count\n",
    "        )\n",
    "        if not rvws:\n",
    "            return None, None\n",
    "        \n",
    "\n",
    "        # Ensure rvws is a list of dicts\n",
    "        rvws = [r for r in rvws if isinstance(r, dict)]\n",
    "\n",
    "        # Most liked review = highest thumbsUpCount\n",
    "        most_liked = max(rvws, key=lambda r: r.get(\"thumbsUpCount\", 0)) if rvws else None\n",
    "\n",
    "        # Most disliked = first low-score review with content\n",
    "        most_disliked = next(\n",
    "            (r for r in rvws if r.get(\"score\", 0) <= 2 and r.get(\"content\")),\n",
    "            None\n",
    "        )\n",
    "\n",
    "        return most_liked, most_disliked\n",
    "    \n",
    "    except Exception as e:\n",
    "        print(f\"Error fetching reviews for {app_id}: {e}\")\n",
    "        return None, None\n",
    "    \n",
    "\n"
   ]
  },
  {
   "cell_type": "markdown",
   "id": "ba59a197",
   "metadata": {},
   "source": [
    "## Web Scraping Loop"
   ]
  },
  {
   "cell_type": "code",
   "execution_count": 4,
   "id": "9908831e",
   "metadata": {},
   "outputs": [
    {
     "name": "stdout",
     "output_type": "stream",
     "text": [
      "🚀 Starting scraping... small test run (5 apps/category)\n",
      "\n",
      "📂 Category: GAME  |  Query: 'top free games'\n"
     ]
    },
    {
     "name": "stderr",
     "output_type": "stream",
     "text": [
      "Apps in GAME: 100%|██████████| 34/34 [01:37<00:00,  2.87s/it]\n"
     ]
    },
    {
     "name": "stdout",
     "output_type": "stream",
     "text": [
      "📂 Category: FINANCE  |  Query: 'finance apps'\n"
     ]
    },
    {
     "name": "stderr",
     "output_type": "stream",
     "text": [
      "Apps in FINANCE: 100%|██████████| 29/29 [01:16<00:00,  2.64s/it]\n"
     ]
    },
    {
     "name": "stdout",
     "output_type": "stream",
     "text": [
      "📂 Category: TOOLS  |  Query: 'android tools'\n"
     ]
    },
    {
     "name": "stderr",
     "output_type": "stream",
     "text": [
      "Apps in TOOLS: 100%|██████████| 30/30 [01:11<00:00,  2.38s/it]\n"
     ]
    },
    {
     "name": "stdout",
     "output_type": "stream",
     "text": [
      "📂 Category: EDUCATION  |  Query: 'education learning apps'\n"
     ]
    },
    {
     "name": "stderr",
     "output_type": "stream",
     "text": [
      "Apps in EDUCATION: 100%|██████████| 30/30 [01:13<00:00,  2.46s/it]\n"
     ]
    },
    {
     "name": "stdout",
     "output_type": "stream",
     "text": [
      "📂 Category: PRODUCTIVITY  |  Query: 'productivity apps'\n"
     ]
    },
    {
     "name": "stderr",
     "output_type": "stream",
     "text": [
      "Apps in PRODUCTIVITY: 100%|██████████| 30/30 [01:19<00:00,  2.65s/it]\n"
     ]
    },
    {
     "name": "stdout",
     "output_type": "stream",
     "text": [
      "📂 Category: SOCIAL  |  Query: 'social networking apps'\n"
     ]
    },
    {
     "name": "stderr",
     "output_type": "stream",
     "text": [
      "Apps in SOCIAL: 100%|██████████| 29/29 [01:20<00:00,  2.77s/it]\n"
     ]
    },
    {
     "name": "stdout",
     "output_type": "stream",
     "text": [
      "📂 Category: HEALTH_AND_FITNESS  |  Query: 'health and fitness apps'\n"
     ]
    },
    {
     "name": "stderr",
     "output_type": "stream",
     "text": [
      "Apps in HEALTH_AND_FITNESS: 100%|██████████| 30/30 [01:23<00:00,  2.77s/it]\n"
     ]
    },
    {
     "name": "stdout",
     "output_type": "stream",
     "text": [
      "📂 Category: COMMUNICATION  |  Query: 'communication apps'\n"
     ]
    },
    {
     "name": "stderr",
     "output_type": "stream",
     "text": [
      "Apps in COMMUNICATION: 100%|██████████| 30/30 [01:24<00:00,  2.80s/it]\n"
     ]
    },
    {
     "name": "stdout",
     "output_type": "stream",
     "text": [
      "📂 Category: TRAVEL  |  Query: 'travel apps'\n"
     ]
    },
    {
     "name": "stderr",
     "output_type": "stream",
     "text": [
      "Apps in TRAVEL: 100%|██████████| 30/30 [01:23<00:00,  2.77s/it]\n"
     ]
    },
    {
     "name": "stdout",
     "output_type": "stream",
     "text": [
      "📂 Category: ENTERTAINMENT  |  Query: 'entertainment apps'\n"
     ]
    },
    {
     "name": "stderr",
     "output_type": "stream",
     "text": [
      "Apps in ENTERTAINMENT: 100%|██████████| 30/30 [01:26<00:00,  2.88s/it]\n"
     ]
    },
    {
     "name": "stdout",
     "output_type": "stream",
     "text": [
      "📂 Category: MUSIC_AND_AUDIO  |  Query: 'music and audio apps'\n"
     ]
    },
    {
     "name": "stderr",
     "output_type": "stream",
     "text": [
      "Apps in MUSIC_AND_AUDIO: 100%|██████████| 30/30 [01:48<00:00,  3.63s/it]\n"
     ]
    },
    {
     "name": "stdout",
     "output_type": "stream",
     "text": [
      "📂 Category: SHOPPING  |  Query: 'shopping apps'\n"
     ]
    },
    {
     "name": "stderr",
     "output_type": "stream",
     "text": [
      "Apps in SHOPPING: 100%|██████████| 25/25 [01:27<00:00,  3.50s/it]\n"
     ]
    }
   ],
   "source": [
    "all_data = []\n",
    "print(\"🚀 Starting scraping... small test run (5 apps/category)\\n\")\n",
    "\n",
    "for category, query in CATEGORY_QUERIES.items():\n",
    "    print(f\"📂 Category: {category}  |  Query: '{query}'\")\n",
    "    try:\n",
    "        # Discover up to 5 candidate apps for this category via text search\n",
    "        # n_hits default max shown in docs is 30; we cap to 5 for test\n",
    "        results = search(query, lang=\"en\", country=\"us\", n_hits=APPS_PER_CATEGORY)\n",
    "    except Exception as e:\n",
    "        print(f\"Could not search for category {category}: {e}\")\n",
    "        continue\n",
    "\n",
    "    for r in tqdm(results, desc=f\"Apps in {category}\"):\n",
    "        app_id = r.get(\"appId\")\n",
    "        if not app_id:\n",
    "            continue\n",
    "\n",
    "        # Metadata\n",
    "        meta = fetch_app_metadata(app_id, lang=\"en\", country=\"us\")\n",
    "        if not meta:\n",
    "            continue\n",
    "\n",
    "        # Reviews\n",
    "        liked, disliked = fetch_reviews(app_id, count=10, lang=\"en\", country=\"us\")\n",
    "        meta[\"most_liked_review\"] = liked.get(\"content\") if isinstance(liked, dict) else None\n",
    "        meta[\"most_disliked_review\"] = disliked.get(\"content\") if isinstance(disliked, dict) else None\n",
    "\n",
    "\n",
    "        # Track originating bucket\n",
    "        meta[\"discovered_from_category\"] = category\n",
    "        meta[\"discovered_query\"] = query\n",
    "\n",
    "        all_data.append(meta)\n",
    "\n",
    "    # Gentle pacing between categories\n",
    "    time.sleep(1)"
   ]
  },
  {
   "cell_type": "markdown",
   "id": "6152d2eb",
   "metadata": {},
   "source": [
    "### Save in CSV"
   ]
  },
  {
   "cell_type": "code",
   "execution_count": 5,
   "id": "af4efc27",
   "metadata": {},
   "outputs": [
    {
     "name": "stdout",
     "output_type": "stream",
     "text": [
      "\n",
      "✅ Done! Saved 357 apps to ../dataset/playstore_dataset.csv\n"
     ]
    }
   ],
   "source": [
    "import os\n",
    "\n",
    "# Ensure the target directory exists\n",
    "os.makedirs(\"../dataset\", exist_ok=True)\n",
    "\n",
    "# Export DataFrame to your desired path\n",
    "OUTPUT_PATH = \"../dataset/playstore_dataset.csv\"\n",
    "df = pd.DataFrame(all_data)\n",
    "df.to_csv(OUTPUT_PATH, index=False)\n",
    "\n",
    "print(f\"\\n✅ Done! Saved {len(df)} apps to {OUTPUT_PATH}\")\n"
   ]
  },
  {
   "cell_type": "code",
   "execution_count": null,
   "id": "79cdb9af",
   "metadata": {},
   "outputs": [],
   "source": []
  },
  {
   "cell_type": "code",
   "execution_count": null,
   "id": "d15422bf",
   "metadata": {},
   "outputs": [],
   "source": []
  },
  {
   "cell_type": "code",
   "execution_count": null,
   "id": "18aa2ed1",
   "metadata": {},
   "outputs": [],
   "source": []
  },
  {
   "cell_type": "code",
   "execution_count": null,
   "id": "89966911",
   "metadata": {},
   "outputs": [],
   "source": []
  },
  {
   "cell_type": "code",
   "execution_count": null,
   "id": "67ba666c",
   "metadata": {},
   "outputs": [],
   "source": []
  },
  {
   "cell_type": "code",
   "execution_count": null,
   "id": "9d2ab84b",
   "metadata": {},
   "outputs": [],
   "source": []
  },
  {
   "cell_type": "code",
   "execution_count": null,
   "id": "53751086",
   "metadata": {},
   "outputs": [],
   "source": []
  },
  {
   "cell_type": "code",
   "execution_count": null,
   "id": "f5eaca63",
   "metadata": {},
   "outputs": [],
   "source": []
  },
  {
   "cell_type": "code",
   "execution_count": null,
   "id": "8669602b",
   "metadata": {},
   "outputs": [],
   "source": []
  },
  {
   "cell_type": "code",
   "execution_count": null,
   "id": "28c2a4af",
   "metadata": {},
   "outputs": [],
   "source": []
  }
 ],
 "metadata": {
  "kernelspec": {
   "display_name": ".venv",
   "language": "python",
   "name": "python3"
  },
  "language_info": {
   "codemirror_mode": {
    "name": "ipython",
    "version": 3
   },
   "file_extension": ".py",
   "mimetype": "text/x-python",
   "name": "python",
   "nbconvert_exporter": "python",
   "pygments_lexer": "ipython3",
   "version": "3.12.3"
  }
 },
 "nbformat": 4,
 "nbformat_minor": 5
}
